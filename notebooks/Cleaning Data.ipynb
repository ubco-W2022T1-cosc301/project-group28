{
 "cells": [
  {
   "cell_type": "code",
   "execution_count": 40,
   "id": "7e47a437",
   "metadata": {},
   "outputs": [],
   "source": [
    "import numpy as np\n",
    "import pandas as pd\n",
    "import matplotlib.pyplot as plt\n",
    "import seaborn as sns\n",
    "\n",
    "#Loading the data set\n",
    "\n",
    "df = pd.read_csv(\"../data/raw/FIFA22_official_data.csv\")\n",
    "\n"
   ]
  },
  {
   "cell_type": "code",
   "execution_count": 33,
   "id": "e732ad9e",
   "metadata": {},
   "outputs": [],
   "source": [
    "def convert_currency_to_number(value):\n",
    "    '''Converts currency from a string with currency logo and short form for million and kilo to only numbers'''\n",
    "    value = str(value).strip('€')\n",
    "    if \"M\" in value:\n",
    "        value = re.sub(\"[^0-9]\", \"\", value)\n",
    "        value = float(value)*1000000\n",
    "    elif \"K\" in value: \n",
    "        value = re.sub(\"[^0-9]\", \"\", value)\n",
    "        value = float(value)*1000\n",
    "    return(float(value))"
   ]
  },
  {
   "cell_type": "code",
   "execution_count": 34,
   "id": "0e6bdcc2",
   "metadata": {},
   "outputs": [],
   "source": [
    "def clean_position(pos):\n",
    "    \"\"\"Function to clean the position column of the data set to extract important information\"\"\"\n",
    "    if isinstance(pos, str) == False:\n",
    "        pos_cleaned = \"NA\"\n",
    "    else:\n",
    "        pos_cleaned = ''.join([a for a in pos if a.isupper()])\n",
    "        print(pos_cleaned)\n",
    "    return pos_cleaned"
   ]
  },
  {
   "cell_type": "code",
   "execution_count": 43,
   "id": "379e6481",
   "metadata": {},
   "outputs": [
    {
     "ename": "KeyError",
     "evalue": "'[   37    88   137   169   342   401   419   431   437   440   515   546\\n   564   604   626   661   668   717   740   750   806   870   872   900\\n   928  1002  1015  1021  1053  1135  1159  1270  1355  1464  1493  1512\\n  1575  1597  1602  1666  1670  1749  1759  1775  1780  1788  1886  1912\\n  1930  1961  1992  2128  2186  2199  2226  2243  2251  2293  2299  2405\\n  2406  2481  2510  2514  2570  2595  2598  2622  2655  2689  2826  2837\\n  2903  2906  3010  3030  3107  3138  3241  3369  3374  3414  3454  3456\\n  3477  3478  3539  3626  3632  3674  3742  3805  3938  3984  4019  4025\\n  4062  4127  4176  4215  4233  4261  4325  4392  4420  4483  4504  4561\\n  4569  4791  4792  4834  4839  4881  4902  4909  4913  4931  5045  5067\\n  5144  5211  5261  5265  5306  5366  5417  5498  5533  5582  5653  5722\\n  6227  6254  6292  6346  6416  6429  6437  6454  6502  6605  6665  6717\\n  6758  6785  6840  6947  6985  7006  7169  7349  7408  7454  7497  7541\\n  7557  7559  7661  7671  7718  7788  7843  7885  7976  8011  8027  8054\\n  8132  8140  8212  8342  8409  8568  8597  8662  8711  8791  8810  8899\\n  8962  9011  9080  9090  9263  9385  9400  9423  9555  9599  9611  9613\\n  9618  9648  9662  9695  9729 10050 10087 10112 10133 10173 10181 10283\\n 10347 10389 10425 10451 10482 10670 10673 10686 10700 10736 10800 10993\\n 11060 11062 11080 11206 11250 11498 11551 11685 11757 11830 11834 11857\\n 11864 11872 11874 11881 11905 11949 12016 12059 12113 12215 12216 12233\\n 12247 12339 12375 12403 12553 12670 12756 12802 12804 12829 12888 12909\\n 12939 12958 12969 13042 13092 13122 13131 13351 13381 13387 13441 13523\\n 13728 13735 13807 13829 13897 13920 13928 13940 13980 14014 14038 14062\\n 14127 14179 14182 14185 14204 14248 14277 14318 14415 14520 14536 14648\\n 14735 14846 14865 14875 14887 14903 14927 14971 15031 15079 15120 15146\\n 15173 15184 15282 15302 15312 15351 15371 15409 15414 15424 15440 15492\\n 15493 15502 15549 15570 15609 15638 15688 15692 15725 15775 15781 15787\\n 15794 15835 15844 15914 15961 16013 16155 16185 16245 16279 16301 16328\\n 16371 16423 16504 16527 16540 16572 16585 16709] not found in axis'",
     "output_type": "error",
     "traceback": [
      "\u001b[1;31m---------------------------------------------------------------------------\u001b[0m",
      "\u001b[1;31mKeyError\u001b[0m                                  Traceback (most recent call last)",
      "\u001b[1;32m~\\AppData\\Local\\Temp/ipykernel_8448/3707824893.py\u001b[0m in \u001b[0;36m<module>\u001b[1;34m\u001b[0m\n\u001b[0;32m     16\u001b[0m \u001b[1;33m\u001b[0m\u001b[0m\n\u001b[0;32m     17\u001b[0m \u001b[1;33m\u001b[0m\u001b[0m\n\u001b[1;32m---> 18\u001b[1;33m df = (df.dropna(subset = list(df.loc[:, df.columns != 'Loaned From']))\n\u001b[0m\u001b[0;32m     19\u001b[0m       \u001b[1;33m.\u001b[0m\u001b[0mdrop\u001b[0m\u001b[1;33m(\u001b[0m\u001b[0mdf\u001b[0m\u001b[1;33m.\u001b[0m\u001b[0mloc\u001b[0m\u001b[1;33m[\u001b[0m\u001b[0mdf\u001b[0m\u001b[1;33m[\u001b[0m\u001b[1;34m'Value'\u001b[0m\u001b[1;33m]\u001b[0m\u001b[1;33m==\u001b[0m\u001b[1;34m\"€0\"\u001b[0m\u001b[1;33m]\u001b[0m\u001b[1;33m.\u001b[0m\u001b[0mindex\u001b[0m\u001b[1;33m,\u001b[0m \u001b[0minplace\u001b[0m\u001b[1;33m=\u001b[0m\u001b[1;32mTrue\u001b[0m\u001b[1;33m)\u001b[0m\u001b[1;33m\u001b[0m\u001b[1;33m\u001b[0m\u001b[0m\n\u001b[0;32m     20\u001b[0m       \u001b[1;33m.\u001b[0m\u001b[0mdrop\u001b[0m\u001b[1;33m(\u001b[0m\u001b[0mdf\u001b[0m\u001b[1;33m.\u001b[0m\u001b[0mloc\u001b[0m\u001b[1;33m[\u001b[0m\u001b[0mdf\u001b[0m\u001b[1;33m[\u001b[0m\u001b[1;34m'Wage'\u001b[0m\u001b[1;33m]\u001b[0m\u001b[1;33m==\u001b[0m\u001b[1;34m\"€0\"\u001b[0m\u001b[1;33m]\u001b[0m\u001b[1;33m.\u001b[0m\u001b[0mindex\u001b[0m\u001b[1;33m,\u001b[0m \u001b[0minplace\u001b[0m\u001b[1;33m=\u001b[0m\u001b[1;32mTrue\u001b[0m\u001b[1;33m)\u001b[0m\u001b[1;33m\u001b[0m\u001b[1;33m\u001b[0m\u001b[0m\n",
      "\u001b[1;32m~\\anaconda3\\lib\\site-packages\\pandas\\util\\_decorators.py\u001b[0m in \u001b[0;36mwrapper\u001b[1;34m(*args, **kwargs)\u001b[0m\n\u001b[0;32m    309\u001b[0m                     \u001b[0mstacklevel\u001b[0m\u001b[1;33m=\u001b[0m\u001b[0mstacklevel\u001b[0m\u001b[1;33m,\u001b[0m\u001b[1;33m\u001b[0m\u001b[1;33m\u001b[0m\u001b[0m\n\u001b[0;32m    310\u001b[0m                 )\n\u001b[1;32m--> 311\u001b[1;33m             \u001b[1;32mreturn\u001b[0m \u001b[0mfunc\u001b[0m\u001b[1;33m(\u001b[0m\u001b[1;33m*\u001b[0m\u001b[0margs\u001b[0m\u001b[1;33m,\u001b[0m \u001b[1;33m**\u001b[0m\u001b[0mkwargs\u001b[0m\u001b[1;33m)\u001b[0m\u001b[1;33m\u001b[0m\u001b[1;33m\u001b[0m\u001b[0m\n\u001b[0m\u001b[0;32m    312\u001b[0m \u001b[1;33m\u001b[0m\u001b[0m\n\u001b[0;32m    313\u001b[0m         \u001b[1;32mreturn\u001b[0m \u001b[0mwrapper\u001b[0m\u001b[1;33m\u001b[0m\u001b[1;33m\u001b[0m\u001b[0m\n",
      "\u001b[1;32m~\\anaconda3\\lib\\site-packages\\pandas\\core\\frame.py\u001b[0m in \u001b[0;36mdrop\u001b[1;34m(self, labels, axis, index, columns, level, inplace, errors)\u001b[0m\n\u001b[0;32m   4904\u001b[0m                 \u001b[0mweight\u001b[0m  \u001b[1;36m1.0\u001b[0m     \u001b[1;36m0.8\u001b[0m\u001b[1;33m\u001b[0m\u001b[1;33m\u001b[0m\u001b[0m\n\u001b[0;32m   4905\u001b[0m         \"\"\"\n\u001b[1;32m-> 4906\u001b[1;33m         return super().drop(\n\u001b[0m\u001b[0;32m   4907\u001b[0m             \u001b[0mlabels\u001b[0m\u001b[1;33m=\u001b[0m\u001b[0mlabels\u001b[0m\u001b[1;33m,\u001b[0m\u001b[1;33m\u001b[0m\u001b[1;33m\u001b[0m\u001b[0m\n\u001b[0;32m   4908\u001b[0m             \u001b[0maxis\u001b[0m\u001b[1;33m=\u001b[0m\u001b[0maxis\u001b[0m\u001b[1;33m,\u001b[0m\u001b[1;33m\u001b[0m\u001b[1;33m\u001b[0m\u001b[0m\n",
      "\u001b[1;32m~\\anaconda3\\lib\\site-packages\\pandas\\core\\generic.py\u001b[0m in \u001b[0;36mdrop\u001b[1;34m(self, labels, axis, index, columns, level, inplace, errors)\u001b[0m\n\u001b[0;32m   4148\u001b[0m         \u001b[1;32mfor\u001b[0m \u001b[0maxis\u001b[0m\u001b[1;33m,\u001b[0m \u001b[0mlabels\u001b[0m \u001b[1;32min\u001b[0m \u001b[0maxes\u001b[0m\u001b[1;33m.\u001b[0m\u001b[0mitems\u001b[0m\u001b[1;33m(\u001b[0m\u001b[1;33m)\u001b[0m\u001b[1;33m:\u001b[0m\u001b[1;33m\u001b[0m\u001b[1;33m\u001b[0m\u001b[0m\n\u001b[0;32m   4149\u001b[0m             \u001b[1;32mif\u001b[0m \u001b[0mlabels\u001b[0m \u001b[1;32mis\u001b[0m \u001b[1;32mnot\u001b[0m \u001b[1;32mNone\u001b[0m\u001b[1;33m:\u001b[0m\u001b[1;33m\u001b[0m\u001b[1;33m\u001b[0m\u001b[0m\n\u001b[1;32m-> 4150\u001b[1;33m                 \u001b[0mobj\u001b[0m \u001b[1;33m=\u001b[0m \u001b[0mobj\u001b[0m\u001b[1;33m.\u001b[0m\u001b[0m_drop_axis\u001b[0m\u001b[1;33m(\u001b[0m\u001b[0mlabels\u001b[0m\u001b[1;33m,\u001b[0m \u001b[0maxis\u001b[0m\u001b[1;33m,\u001b[0m \u001b[0mlevel\u001b[0m\u001b[1;33m=\u001b[0m\u001b[0mlevel\u001b[0m\u001b[1;33m,\u001b[0m \u001b[0merrors\u001b[0m\u001b[1;33m=\u001b[0m\u001b[0merrors\u001b[0m\u001b[1;33m)\u001b[0m\u001b[1;33m\u001b[0m\u001b[1;33m\u001b[0m\u001b[0m\n\u001b[0m\u001b[0;32m   4151\u001b[0m \u001b[1;33m\u001b[0m\u001b[0m\n\u001b[0;32m   4152\u001b[0m         \u001b[1;32mif\u001b[0m \u001b[0minplace\u001b[0m\u001b[1;33m:\u001b[0m\u001b[1;33m\u001b[0m\u001b[1;33m\u001b[0m\u001b[0m\n",
      "\u001b[1;32m~\\anaconda3\\lib\\site-packages\\pandas\\core\\generic.py\u001b[0m in \u001b[0;36m_drop_axis\u001b[1;34m(self, labels, axis, level, errors)\u001b[0m\n\u001b[0;32m   4183\u001b[0m                 \u001b[0mnew_axis\u001b[0m \u001b[1;33m=\u001b[0m \u001b[0maxis\u001b[0m\u001b[1;33m.\u001b[0m\u001b[0mdrop\u001b[0m\u001b[1;33m(\u001b[0m\u001b[0mlabels\u001b[0m\u001b[1;33m,\u001b[0m \u001b[0mlevel\u001b[0m\u001b[1;33m=\u001b[0m\u001b[0mlevel\u001b[0m\u001b[1;33m,\u001b[0m \u001b[0merrors\u001b[0m\u001b[1;33m=\u001b[0m\u001b[0merrors\u001b[0m\u001b[1;33m)\u001b[0m\u001b[1;33m\u001b[0m\u001b[1;33m\u001b[0m\u001b[0m\n\u001b[0;32m   4184\u001b[0m             \u001b[1;32melse\u001b[0m\u001b[1;33m:\u001b[0m\u001b[1;33m\u001b[0m\u001b[1;33m\u001b[0m\u001b[0m\n\u001b[1;32m-> 4185\u001b[1;33m                 \u001b[0mnew_axis\u001b[0m \u001b[1;33m=\u001b[0m \u001b[0maxis\u001b[0m\u001b[1;33m.\u001b[0m\u001b[0mdrop\u001b[0m\u001b[1;33m(\u001b[0m\u001b[0mlabels\u001b[0m\u001b[1;33m,\u001b[0m \u001b[0merrors\u001b[0m\u001b[1;33m=\u001b[0m\u001b[0merrors\u001b[0m\u001b[1;33m)\u001b[0m\u001b[1;33m\u001b[0m\u001b[1;33m\u001b[0m\u001b[0m\n\u001b[0m\u001b[0;32m   4186\u001b[0m             \u001b[0mresult\u001b[0m \u001b[1;33m=\u001b[0m \u001b[0mself\u001b[0m\u001b[1;33m.\u001b[0m\u001b[0mreindex\u001b[0m\u001b[1;33m(\u001b[0m\u001b[1;33m**\u001b[0m\u001b[1;33m{\u001b[0m\u001b[0maxis_name\u001b[0m\u001b[1;33m:\u001b[0m \u001b[0mnew_axis\u001b[0m\u001b[1;33m}\u001b[0m\u001b[1;33m)\u001b[0m\u001b[1;33m\u001b[0m\u001b[1;33m\u001b[0m\u001b[0m\n\u001b[0;32m   4187\u001b[0m \u001b[1;33m\u001b[0m\u001b[0m\n",
      "\u001b[1;32m~\\anaconda3\\lib\\site-packages\\pandas\\core\\indexes\\base.py\u001b[0m in \u001b[0;36mdrop\u001b[1;34m(self, labels, errors)\u001b[0m\n\u001b[0;32m   6015\u001b[0m         \u001b[1;32mif\u001b[0m \u001b[0mmask\u001b[0m\u001b[1;33m.\u001b[0m\u001b[0many\u001b[0m\u001b[1;33m(\u001b[0m\u001b[1;33m)\u001b[0m\u001b[1;33m:\u001b[0m\u001b[1;33m\u001b[0m\u001b[1;33m\u001b[0m\u001b[0m\n\u001b[0;32m   6016\u001b[0m             \u001b[1;32mif\u001b[0m \u001b[0merrors\u001b[0m \u001b[1;33m!=\u001b[0m \u001b[1;34m\"ignore\"\u001b[0m\u001b[1;33m:\u001b[0m\u001b[1;33m\u001b[0m\u001b[1;33m\u001b[0m\u001b[0m\n\u001b[1;32m-> 6017\u001b[1;33m                 \u001b[1;32mraise\u001b[0m \u001b[0mKeyError\u001b[0m\u001b[1;33m(\u001b[0m\u001b[1;34mf\"{labels[mask]} not found in axis\"\u001b[0m\u001b[1;33m)\u001b[0m\u001b[1;33m\u001b[0m\u001b[1;33m\u001b[0m\u001b[0m\n\u001b[0m\u001b[0;32m   6018\u001b[0m             \u001b[0mindexer\u001b[0m \u001b[1;33m=\u001b[0m \u001b[0mindexer\u001b[0m\u001b[1;33m[\u001b[0m\u001b[1;33m~\u001b[0m\u001b[0mmask\u001b[0m\u001b[1;33m]\u001b[0m\u001b[1;33m\u001b[0m\u001b[1;33m\u001b[0m\u001b[0m\n\u001b[0;32m   6019\u001b[0m         \u001b[1;32mreturn\u001b[0m \u001b[0mself\u001b[0m\u001b[1;33m.\u001b[0m\u001b[0mdelete\u001b[0m\u001b[1;33m(\u001b[0m\u001b[0mindexer\u001b[0m\u001b[1;33m)\u001b[0m\u001b[1;33m\u001b[0m\u001b[1;33m\u001b[0m\u001b[0m\n",
      "\u001b[1;31mKeyError\u001b[0m: '[   37    88   137   169   342   401   419   431   437   440   515   546\\n   564   604   626   661   668   717   740   750   806   870   872   900\\n   928  1002  1015  1021  1053  1135  1159  1270  1355  1464  1493  1512\\n  1575  1597  1602  1666  1670  1749  1759  1775  1780  1788  1886  1912\\n  1930  1961  1992  2128  2186  2199  2226  2243  2251  2293  2299  2405\\n  2406  2481  2510  2514  2570  2595  2598  2622  2655  2689  2826  2837\\n  2903  2906  3010  3030  3107  3138  3241  3369  3374  3414  3454  3456\\n  3477  3478  3539  3626  3632  3674  3742  3805  3938  3984  4019  4025\\n  4062  4127  4176  4215  4233  4261  4325  4392  4420  4483  4504  4561\\n  4569  4791  4792  4834  4839  4881  4902  4909  4913  4931  5045  5067\\n  5144  5211  5261  5265  5306  5366  5417  5498  5533  5582  5653  5722\\n  6227  6254  6292  6346  6416  6429  6437  6454  6502  6605  6665  6717\\n  6758  6785  6840  6947  6985  7006  7169  7349  7408  7454  7497  7541\\n  7557  7559  7661  7671  7718  7788  7843  7885  7976  8011  8027  8054\\n  8132  8140  8212  8342  8409  8568  8597  8662  8711  8791  8810  8899\\n  8962  9011  9080  9090  9263  9385  9400  9423  9555  9599  9611  9613\\n  9618  9648  9662  9695  9729 10050 10087 10112 10133 10173 10181 10283\\n 10347 10389 10425 10451 10482 10670 10673 10686 10700 10736 10800 10993\\n 11060 11062 11080 11206 11250 11498 11551 11685 11757 11830 11834 11857\\n 11864 11872 11874 11881 11905 11949 12016 12059 12113 12215 12216 12233\\n 12247 12339 12375 12403 12553 12670 12756 12802 12804 12829 12888 12909\\n 12939 12958 12969 13042 13092 13122 13131 13351 13381 13387 13441 13523\\n 13728 13735 13807 13829 13897 13920 13928 13940 13980 14014 14038 14062\\n 14127 14179 14182 14185 14204 14248 14277 14318 14415 14520 14536 14648\\n 14735 14846 14865 14875 14887 14903 14927 14971 15031 15079 15120 15146\\n 15173 15184 15282 15302 15312 15351 15371 15409 15414 15424 15440 15492\\n 15493 15502 15549 15570 15609 15638 15688 15692 15725 15775 15781 15787\\n 15794 15835 15844 15914 15961 16013 16155 16185 16245 16279 16301 16328\\n 16371 16423 16504 16527 16540 16572 16585 16709] not found in axis'"
     ]
    }
   ],
   "source": [
    "#Cleaning the data\n",
    "\"\"\"\n",
    "df = (   \n",
    "    pd.DataFrame(data.data,columns=data.feature_names)\n",
    "    .rename(columns={\"color_intensity\": \"ci\"})\n",
    "    .assign(color_filter=lambda x: np.where((x.hue > 1) & (x.ci > 7), 1, 0))\n",
    "    .loc[lambda x: x['alcohol']>14]\n",
    "    .sort_values(\"alcohol\", ascending=False)\n",
    "    .reset_index(drop=True)\n",
    "    .loc[:, [\"alcohol\", \"ci\", \"hue\"]]\n",
    "    \n",
    "      .rename(columns = {'Weekly Wage':'Wage', \"FKAccuracy\" : \"Freekick Accuracy\"})\n",
    "      ,\"DefensiveAwareness\", \"Real Face\" \n",
    "      dropna(subset=['name', 'toy']\n",
    ")\"\"\"\n",
    "\n",
    "\n",
    "df = (df.dropna(subset = list(df.loc[:, df.columns != 'Loaned From']))\n",
    "      .drop(df.loc[df['Value']==\"€0\"].index, inplace=True)\n",
    "      .drop(df.loc[df['Wage']==\"€0\"].index, inplace=True)\n",
    "      .drop([\"Photo\", \"Flag\", \"Club Logo\", \"Potential\", \"Special\", \"Work Rate\", \"Marking\", \"Best Position\", \"Best Overall Rating\",\"DefensiveAwareness\", \"Real Face\" ], axis = 1)\n",
    "      .rename(columns = {'Weekly Wage':'Wage', \"FKAccuracy\" : \"Freekick Accuracy\", \"Loaned From\" : \"LoanedFrom\"})\n",
    "      .sort_values(\"Name\", ascending=\"True\")\n",
    "      .assign(OnLoan=lambda x: np.where(x.LoanedFrom.notnull, \"No\", \"Yes\"))\n",
    "      .assign(Value=lambda x: convert_currency_to_number(x.Value)))\n",
    "  \n",
    "\n",
    "#df = (df.drop([\"Photo\"], axis = 1))\n",
    "df"
   ]
  },
  {
   "cell_type": "code",
   "execution_count": 42,
   "id": "67fd11e6",
   "metadata": {},
   "outputs": [
    {
     "data": {
      "text/plain": [
       "['ID',\n",
       " 'Name',\n",
       " 'Age',\n",
       " 'Photo',\n",
       " 'Nationality',\n",
       " 'Flag',\n",
       " 'Overall',\n",
       " 'Potential',\n",
       " 'Club',\n",
       " 'Club Logo',\n",
       " 'Value',\n",
       " 'Wage',\n",
       " 'Special',\n",
       " 'Preferred Foot',\n",
       " 'International Reputation',\n",
       " 'Weak Foot',\n",
       " 'Skill Moves',\n",
       " 'Work Rate',\n",
       " 'Body Type',\n",
       " 'Real Face',\n",
       " 'Position',\n",
       " 'Jersey Number',\n",
       " 'Joined',\n",
       " 'Contract Valid Until',\n",
       " 'Height',\n",
       " 'Weight',\n",
       " 'Crossing',\n",
       " 'Finishing',\n",
       " 'HeadingAccuracy',\n",
       " 'ShortPassing',\n",
       " 'Volleys',\n",
       " 'Dribbling',\n",
       " 'Curve',\n",
       " 'FKAccuracy',\n",
       " 'LongPassing',\n",
       " 'BallControl',\n",
       " 'Acceleration',\n",
       " 'SprintSpeed',\n",
       " 'Agility',\n",
       " 'Reactions',\n",
       " 'Balance',\n",
       " 'ShotPower',\n",
       " 'Jumping',\n",
       " 'Stamina',\n",
       " 'Strength',\n",
       " 'LongShots',\n",
       " 'Aggression',\n",
       " 'Interceptions',\n",
       " 'Positioning',\n",
       " 'Vision',\n",
       " 'Penalties',\n",
       " 'Composure',\n",
       " 'Marking',\n",
       " 'StandingTackle',\n",
       " 'SlidingTackle',\n",
       " 'GKDiving',\n",
       " 'GKHandling',\n",
       " 'GKKicking',\n",
       " 'GKPositioning',\n",
       " 'GKReflexes',\n",
       " 'Best Position',\n",
       " 'Best Overall Rating',\n",
       " 'Release Clause',\n",
       " 'DefensiveAwareness']"
      ]
     },
     "execution_count": 42,
     "metadata": {},
     "output_type": "execute_result"
    }
   ],
   "source": [
    "list(df.loc[:, df.columns != 'Loaned From'])"
   ]
  },
  {
   "cell_type": "code",
   "execution_count": null,
   "id": "a169f6ea",
   "metadata": {},
   "outputs": [],
   "source": []
  }
 ],
 "metadata": {
  "kernelspec": {
   "display_name": "Python 3 (ipykernel)",
   "language": "python",
   "name": "python3"
  },
  "language_info": {
   "codemirror_mode": {
    "name": "ipython",
    "version": 3
   },
   "file_extension": ".py",
   "mimetype": "text/x-python",
   "name": "python",
   "nbconvert_exporter": "python",
   "pygments_lexer": "ipython3",
   "version": "3.9.7"
  }
 },
 "nbformat": 4,
 "nbformat_minor": 5
}
