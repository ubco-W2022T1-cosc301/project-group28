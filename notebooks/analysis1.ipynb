{
 "cells": [
  {
   "cell_type": "markdown",
   "metadata": {},
   "source": [
    "# Sathvik Radhakrishnan"
   ]
  },
  {
   "cell_type": "markdown",
   "metadata": {},
   "source": [
    "## Research question/interests\n",
    "\n",
    "I would like to know the relationships between different parameters (nationality, age, position, speed) and their relationship to a players market value.\n"
   ]
  },
  {
   "cell_type": "code",
<<<<<<< HEAD
   "execution_count": 3,
=======
   "execution_count": null,
>>>>>>> 851e0ae508377eec9c41dd8bb6ab585bff125ed2
   "metadata": {},
   "outputs": [],
   "source": [
    "import pandas as pd"
   ]
  },
  {
   "cell_type": "code",
<<<<<<< HEAD
   "execution_count": 4,
=======
   "execution_count": null,
>>>>>>> 851e0ae508377eec9c41dd8bb6ab585bff125ed2
   "metadata": {},
   "outputs": [
    {
     "data": {
      "text/plain": [
       "0    <span class=\"pos pos18\">CAM\n",
       "1    <span class=\"pos pos11\">LDM\n",
       "2     <span class=\"pos pos24\">RS\n",
       "3    <span class=\"pos pos13\">RCM\n",
       "4      <span class=\"pos pos7\">LB\n",
       "5     <span class=\"pos pos9\">RDM\n",
       "6    <span class=\"pos pos15\">LCM\n",
       "7    <span class=\"pos pos28\">SUB\n",
       "8    <span class=\"pos pos28\">SUB\n",
       "9     <span class=\"pos pos26\">LS\n",
       "Name: Position, dtype: object"
      ]
     },
<<<<<<< HEAD
     "execution_count": 4,
=======
     "execution_count": null,
>>>>>>> 851e0ae508377eec9c41dd8bb6ab585bff125ed2
     "metadata": {},
     "output_type": "execute_result"
    }
   ],
   "source": [
    "df = pd.read_csv(\"../data/raw/FIFA22_official_data.csv\")\n",
    "\n",
    "df['Position'].head(10)"
   ]
  },
  {
   "cell_type": "code",
   "execution_count": null,
   "metadata": {},
   "outputs": [],
   "source": []
  }
 ],
 "metadata": {
  "kernelspec": {
   "display_name": "Python 3 (ipykernel)",
   "language": "python",
   "name": "python3"
  }
 },
 "nbformat": 4,
 "nbformat_minor": 4
}
